{
 "cells": [
  {
   "cell_type": "code",
   "execution_count": 1,
   "metadata": {},
   "outputs": [],
   "source": [
    "import warnings\n",
    "warnings.filterwarnings('ignore')\n",
    "\n",
    "import pandas as pd\n",
    "import numpy as np\n",
    "import os\n",
    "import datetime\n",
    "import math\n",
    "import matplotlib.pyplot as plt\n",
    "import seaborn as sns"
   ]
  },
  {
   "cell_type": "code",
   "execution_count": 2,
   "metadata": {},
   "outputs": [],
   "source": [
    "def show_trip_duration_in_per(data):\n",
    "    print(\"Trip duration in percentile:\")\n",
    "    for i in np.arange(99,100,0.1):\n",
    "        var = data[\"trip_duration\"].values\n",
    "        var = np.sort(var,axis = None)\n",
    "        print(\"{} percentile value is {}\".format(i,var[int(len(var)*(float(i)/100))]))\n",
    "    print (\"100 percentile value is \",var[-1])"
   ]
  },
  {
   "cell_type": "code",
   "execution_count": 3,
   "metadata": {},
   "outputs": [],
   "source": [
    "data = pd.read_csv(\"2018_processed_data_2.csv\")"
   ]
  },
  {
   "cell_type": "code",
   "execution_count": 4,
   "metadata": {},
   "outputs": [
    {
     "data": {
      "text/plain": [
       "(8759530, 16)"
      ]
     },
     "execution_count": 4,
     "metadata": {},
     "output_type": "execute_result"
    }
   ],
   "source": [
    "data.shape"
   ]
  },
  {
   "cell_type": "code",
   "execution_count": 5,
   "metadata": {},
   "outputs": [
    {
     "data": {
      "text/html": [
       "<div>\n",
       "<style scoped>\n",
       "    .dataframe tbody tr th:only-of-type {\n",
       "        vertical-align: middle;\n",
       "    }\n",
       "\n",
       "    .dataframe tbody tr th {\n",
       "        vertical-align: top;\n",
       "    }\n",
       "\n",
       "    .dataframe thead th {\n",
       "        text-align: right;\n",
       "    }\n",
       "</style>\n",
       "<table border=\"1\" class=\"dataframe\">\n",
       "  <thead>\n",
       "    <tr style=\"text-align: right;\">\n",
       "      <th></th>\n",
       "      <th>Unnamed: 0</th>\n",
       "      <th>VendorID</th>\n",
       "      <th>passengers</th>\n",
       "      <th>trip_distance</th>\n",
       "      <th>PULID</th>\n",
       "      <th>DOLID</th>\n",
       "      <th>fare_amount</th>\n",
       "      <th>weekday</th>\n",
       "      <th>pickup_time</th>\n",
       "      <th>dropoff_time</th>\n",
       "      <th>pickup_date</th>\n",
       "      <th>drop_date</th>\n",
       "      <th>month</th>\n",
       "      <th>pickup_time_code</th>\n",
       "      <th>dropoff_time_code</th>\n",
       "      <th>trip_duration</th>\n",
       "    </tr>\n",
       "  </thead>\n",
       "  <tbody>\n",
       "    <tr>\n",
       "      <th>0</th>\n",
       "      <td>0</td>\n",
       "      <td>1</td>\n",
       "      <td>1</td>\n",
       "      <td>0.5</td>\n",
       "      <td>41</td>\n",
       "      <td>24</td>\n",
       "      <td>4.5</td>\n",
       "      <td>Monday</td>\n",
       "      <td>00:21:05</td>\n",
       "      <td>00:24:23</td>\n",
       "      <td>2018-01-01</td>\n",
       "      <td>2018-01-01</td>\n",
       "      <td>1</td>\n",
       "      <td>1</td>\n",
       "      <td>1</td>\n",
       "      <td>3.300000</td>\n",
       "    </tr>\n",
       "    <tr>\n",
       "      <th>1</th>\n",
       "      <td>1</td>\n",
       "      <td>1</td>\n",
       "      <td>1</td>\n",
       "      <td>2.7</td>\n",
       "      <td>239</td>\n",
       "      <td>140</td>\n",
       "      <td>14.0</td>\n",
       "      <td>Monday</td>\n",
       "      <td>00:44:55</td>\n",
       "      <td>01:03:05</td>\n",
       "      <td>2018-01-01</td>\n",
       "      <td>2018-01-01</td>\n",
       "      <td>1</td>\n",
       "      <td>2</td>\n",
       "      <td>3</td>\n",
       "      <td>18.166667</td>\n",
       "    </tr>\n",
       "    <tr>\n",
       "      <th>2</th>\n",
       "      <td>2</td>\n",
       "      <td>1</td>\n",
       "      <td>2</td>\n",
       "      <td>0.8</td>\n",
       "      <td>262</td>\n",
       "      <td>141</td>\n",
       "      <td>6.0</td>\n",
       "      <td>Monday</td>\n",
       "      <td>00:08:26</td>\n",
       "      <td>00:14:21</td>\n",
       "      <td>2018-01-01</td>\n",
       "      <td>2018-01-01</td>\n",
       "      <td>1</td>\n",
       "      <td>1</td>\n",
       "      <td>1</td>\n",
       "      <td>5.916667</td>\n",
       "    </tr>\n",
       "    <tr>\n",
       "      <th>3</th>\n",
       "      <td>3</td>\n",
       "      <td>1</td>\n",
       "      <td>1</td>\n",
       "      <td>10.2</td>\n",
       "      <td>140</td>\n",
       "      <td>257</td>\n",
       "      <td>33.5</td>\n",
       "      <td>Monday</td>\n",
       "      <td>00:20:22</td>\n",
       "      <td>00:52:51</td>\n",
       "      <td>2018-01-01</td>\n",
       "      <td>2018-01-01</td>\n",
       "      <td>1</td>\n",
       "      <td>1</td>\n",
       "      <td>2</td>\n",
       "      <td>32.483333</td>\n",
       "    </tr>\n",
       "    <tr>\n",
       "      <th>4</th>\n",
       "      <td>4</td>\n",
       "      <td>1</td>\n",
       "      <td>2</td>\n",
       "      <td>2.5</td>\n",
       "      <td>246</td>\n",
       "      <td>239</td>\n",
       "      <td>12.5</td>\n",
       "      <td>Monday</td>\n",
       "      <td>00:09:18</td>\n",
       "      <td>00:27:06</td>\n",
       "      <td>2018-01-01</td>\n",
       "      <td>2018-01-01</td>\n",
       "      <td>1</td>\n",
       "      <td>1</td>\n",
       "      <td>1</td>\n",
       "      <td>17.800000</td>\n",
       "    </tr>\n",
       "  </tbody>\n",
       "</table>\n",
       "</div>"
      ],
      "text/plain": [
       "   Unnamed: 0  VendorID  passengers  trip_distance  PULID  DOLID  fare_amount  \\\n",
       "0           0         1           1            0.5     41     24          4.5   \n",
       "1           1         1           1            2.7    239    140         14.0   \n",
       "2           2         1           2            0.8    262    141          6.0   \n",
       "3           3         1           1           10.2    140    257         33.5   \n",
       "4           4         1           2            2.5    246    239         12.5   \n",
       "\n",
       "  weekday pickup_time dropoff_time pickup_date   drop_date  month  \\\n",
       "0  Monday    00:21:05     00:24:23  2018-01-01  2018-01-01      1   \n",
       "1  Monday    00:44:55     01:03:05  2018-01-01  2018-01-01      1   \n",
       "2  Monday    00:08:26     00:14:21  2018-01-01  2018-01-01      1   \n",
       "3  Monday    00:20:22     00:52:51  2018-01-01  2018-01-01      1   \n",
       "4  Monday    00:09:18     00:27:06  2018-01-01  2018-01-01      1   \n",
       "\n",
       "   pickup_time_code  dropoff_time_code  trip_duration  \n",
       "0                 1                  1       3.300000  \n",
       "1                 2                  3      18.166667  \n",
       "2                 1                  1       5.916667  \n",
       "3                 1                  2      32.483333  \n",
       "4                 1                  1      17.800000  "
      ]
     },
     "execution_count": 5,
     "metadata": {},
     "output_type": "execute_result"
    }
   ],
   "source": [
    "data.head()"
   ]
  },
  {
   "cell_type": "code",
   "execution_count": 6,
   "metadata": {},
   "outputs": [
    {
     "name": "stdout",
     "output_type": "stream",
     "text": [
      "Trip duration in percentile:\n",
      "99.0 percentile value is 54.46666666666667\n",
      "99.1 percentile value is 56.15\n",
      "99.19999999999999 percentile value is 58.05\n",
      "99.29999999999998 percentile value is 60.28333333333333\n",
      "99.39999999999998 percentile value is 63.00000000000001\n",
      "99.49999999999997 percentile value is 66.50000000000001\n",
      "99.59999999999997 percentile value is 71.16666666666667\n",
      "99.69999999999996 percentile value is 79.1\n",
      "99.79999999999995 percentile value is 115.83333333333331\n",
      "99.89999999999995 percentile value is 1421.833333333333\n",
      "100 percentile value is  5382.066666666667\n"
     ]
    }
   ],
   "source": [
    "show_trip_duration_in_per(data)"
   ]
  },
  {
   "cell_type": "code",
   "execution_count": 7,
   "metadata": {},
   "outputs": [
    {
     "name": "stdout",
     "output_type": "stream",
     "text": [
      "Number of rows dropped: 16022\n"
     ]
    }
   ],
   "source": [
    "olen = data.shape[0]\n",
    "data.drop(data[data['trip_duration'] > 608].index, inplace=True) \n",
    "print('Number of rows dropped: {}'.format(olen - data.shape[0]))"
   ]
  },
  {
   "cell_type": "code",
   "execution_count": 8,
   "metadata": {},
   "outputs": [
    {
     "data": {
      "text/plain": [
       "(8743508, 16)"
      ]
     },
     "execution_count": 8,
     "metadata": {},
     "output_type": "execute_result"
    }
   ],
   "source": [
    "data.shape"
   ]
  },
  {
   "cell_type": "code",
   "execution_count": 12,
   "metadata": {},
   "outputs": [
    {
     "data": {
      "text/plain": [
       "2"
      ]
     },
     "execution_count": 12,
     "metadata": {},
     "output_type": "execute_result"
    }
   ],
   "source": [
    "data['month'].nunique()"
   ]
  },
  {
   "cell_type": "code",
   "execution_count": null,
   "metadata": {},
   "outputs": [],
   "source": []
  }
 ],
 "metadata": {
  "kernelspec": {
   "display_name": "Python 3",
   "language": "python",
   "name": "python3"
  },
  "language_info": {
   "codemirror_mode": {
    "name": "ipython",
    "version": 3
   },
   "file_extension": ".py",
   "mimetype": "text/x-python",
   "name": "python",
   "nbconvert_exporter": "python",
   "pygments_lexer": "ipython3",
   "version": "3.8.3"
  }
 },
 "nbformat": 4,
 "nbformat_minor": 4
}
