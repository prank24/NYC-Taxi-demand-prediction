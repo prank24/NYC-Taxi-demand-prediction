{
 "cells": [
  {
   "cell_type": "code",
   "execution_count": 10,
   "metadata": {},
   "outputs": [],
   "source": [
    "from preProcessing import AnyPath, YellowTaxiRecord, PreProcessor, GroupData, YellowTaxiData\n",
    "from os import chdir\n",
    "from os.path import join"
   ]
  },
  {
   "cell_type": "code",
   "execution_count": 12,
   "metadata": {},
   "outputs": [
    {
     "name": "stdout",
     "output_type": "stream",
     "text": [
      "***** Grouping start for month 1 *****\n",
      "***** Grouping start for end 1 *****\n",
      "***** Grouping start for month 2 *****\n",
      "***** Grouping start for end 2 *****\n",
      "***** Grouping start for month 3 *****\n",
      "***** Grouping start for end 3 *****\n",
      "***** Grouping start for month 4 *****\n",
      "***** Grouping start for end 4 *****\n",
      "***** Grouping start for month 5 *****\n",
      "***** Grouping start for end 5 *****\n",
      "***** Grouping start for month 6 *****\n",
      "***** Grouping start for end 6 *****\n",
      "***** Grouping start for month 7 *****\n",
      "***** Grouping start for end 7 *****\n",
      "***** Grouping start for month 8 *****\n",
      "***** Grouping start for end 8 *****\n",
      "***** Grouping start for month 9 *****\n",
      "***** Grouping start for end 9 *****\n",
      "***** Grouping start for month 10 *****\n",
      "***** Grouping start for end 10 *****\n",
      "***** Grouping start for month 11 *****\n",
      "***** Grouping start for end 11 *****\n",
      "***** Grouping start for month 12 *****\n",
      "***** Grouping start for end 12 *****\n"
     ]
    }
   ],
   "source": [
    "year = 2018\n",
    "location: str = \"/Users/archanapatil890/Documents/Machine Learning/python/Capstone/\"\n",
    "out_dir_path: AnyPath = join(location, \"out\")\n",
    "yellow_car_data_out_path: AnyPath = join(out_dir_path, \"yellow_car_out\")\n",
    "grouped_data = GroupData(yellow_car_data_out_path, YellowTaxiData.get_yellow_file_csv_format(year)).count_by_grouping()"
   ]
  },
  {
   "cell_type": "code",
   "execution_count": 18,
   "metadata": {},
   "outputs": [
    {
     "data": {
      "text/plain": [
       "(138809, 8)"
      ]
     },
     "execution_count": 18,
     "metadata": {},
     "output_type": "execute_result"
    }
   ],
   "source": [
    "grouped_data.shape"
   ]
  },
  {
   "cell_type": "code",
   "execution_count": 19,
   "metadata": {},
   "outputs": [
    {
     "data": {
      "text/html": [
       "<div>\n",
       "<style scoped>\n",
       "    .dataframe tbody tr th:only-of-type {\n",
       "        vertical-align: middle;\n",
       "    }\n",
       "\n",
       "    .dataframe tbody tr th {\n",
       "        vertical-align: top;\n",
       "    }\n",
       "\n",
       "    .dataframe thead th {\n",
       "        text-align: right;\n",
       "    }\n",
       "</style>\n",
       "<table border=\"1\" class=\"dataframe\">\n",
       "  <thead>\n",
       "    <tr style=\"text-align: right;\">\n",
       "      <th></th>\n",
       "      <th>pulid</th>\n",
       "      <th>weekday</th>\n",
       "      <th>month</th>\n",
       "      <th>time_code</th>\n",
       "      <th>totalSnow_cm</th>\n",
       "      <th>FeelsLikeC</th>\n",
       "      <th>precipMM</th>\n",
       "      <th>count</th>\n",
       "    </tr>\n",
       "  </thead>\n",
       "  <tbody>\n",
       "    <tr>\n",
       "      <th>0</th>\n",
       "      <td>1</td>\n",
       "      <td>0</td>\n",
       "      <td>1</td>\n",
       "      <td>7</td>\n",
       "      <td>0.0</td>\n",
       "      <td>-21</td>\n",
       "      <td>0.0</td>\n",
       "      <td>1</td>\n",
       "    </tr>\n",
       "    <tr>\n",
       "      <th>1</th>\n",
       "      <td>1</td>\n",
       "      <td>0</td>\n",
       "      <td>1</td>\n",
       "      <td>7</td>\n",
       "      <td>0.0</td>\n",
       "      <td>-14</td>\n",
       "      <td>0.0</td>\n",
       "      <td>1</td>\n",
       "    </tr>\n",
       "    <tr>\n",
       "      <th>2</th>\n",
       "      <td>1</td>\n",
       "      <td>0</td>\n",
       "      <td>1</td>\n",
       "      <td>13</td>\n",
       "      <td>0.0</td>\n",
       "      <td>-22</td>\n",
       "      <td>0.0</td>\n",
       "      <td>1</td>\n",
       "    </tr>\n",
       "    <tr>\n",
       "      <th>3</th>\n",
       "      <td>1</td>\n",
       "      <td>0</td>\n",
       "      <td>1</td>\n",
       "      <td>13</td>\n",
       "      <td>0.0</td>\n",
       "      <td>-14</td>\n",
       "      <td>0.0</td>\n",
       "      <td>2</td>\n",
       "    </tr>\n",
       "    <tr>\n",
       "      <th>4</th>\n",
       "      <td>1</td>\n",
       "      <td>0</td>\n",
       "      <td>1</td>\n",
       "      <td>14</td>\n",
       "      <td>0.0</td>\n",
       "      <td>-13</td>\n",
       "      <td>0.0</td>\n",
       "      <td>1</td>\n",
       "    </tr>\n",
       "  </tbody>\n",
       "</table>\n",
       "</div>"
      ],
      "text/plain": [
       "   pulid  weekday  month  time_code  totalSnow_cm  FeelsLikeC  precipMM  count\n",
       "0      1        0      1          7           0.0         -21       0.0      1\n",
       "1      1        0      1          7           0.0         -14       0.0      1\n",
       "2      1        0      1         13           0.0         -22       0.0      1\n",
       "3      1        0      1         13           0.0         -14       0.0      2\n",
       "4      1        0      1         14           0.0         -13       0.0      1"
      ]
     },
     "execution_count": 19,
     "metadata": {},
     "output_type": "execute_result"
    }
   ],
   "source": [
    "grouped_data.head()"
   ]
  },
  {
   "cell_type": "code",
   "execution_count": 22,
   "metadata": {},
   "outputs": [
    {
     "name": "stdout",
     "output_type": "stream",
     "text": [
      "Writing file at /Users/archanapatil890/Documents/Machine Learning/python/Capstone/out/grouped_data\n"
     ]
    }
   ],
   "source": [
    "#writing to a file\n",
    "PreProcessor.make_dir(join(out_dir_path, \"grouped_data\"))\n",
    "grouped_data_dir = join(out_dir_path, \"grouped_data\")\n",
    "chdir(grouped_data_dir)\n",
    "print(\"Writing file at {}\".format(grouped_data_dir))\n",
    "grouped_data.to_csv(\"{}_year.csv\".format(year))"
   ]
  },
  {
   "cell_type": "code",
   "execution_count": null,
   "metadata": {},
   "outputs": [],
   "source": []
  }
 ],
 "metadata": {
  "kernelspec": {
   "display_name": "Python 3",
   "language": "python",
   "name": "python3"
  },
  "language_info": {
   "codemirror_mode": {
    "name": "ipython",
    "version": 3
   },
   "file_extension": ".py",
   "mimetype": "text/x-python",
   "name": "python",
   "nbconvert_exporter": "python",
   "pygments_lexer": "ipython3",
   "version": "3.8.3"
  }
 },
 "nbformat": 4,
 "nbformat_minor": 4
}
